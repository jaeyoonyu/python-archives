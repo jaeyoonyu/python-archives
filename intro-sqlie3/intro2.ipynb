{
 "cells": [
  {
   "cell_type": "markdown",
   "id": "5d46513e-6c7f-4c01-9b15-5b077fac581c",
   "metadata": {},
   "source": [
    "## Introduction to sqlite3\n",
    "### Part II. Usage of sqlite3\n",
    "Defining functions makes it easy to use sqlite3. Examples include the followings\n",
    "- insert a row\n",
    "- load a data conditionally\n",
    "- update info\n",
    "- remove a row\n",
    "------------------------------"
   ]
  },
  {
   "cell_type": "code",
   "execution_count": 1,
   "id": "7b6dfc11-0d57-4de1-8906-0f64cf417442",
   "metadata": {},
   "outputs": [],
   "source": [
    "import sqlite3\n",
    "from employee import Employee"
   ]
  },
  {
   "cell_type": "markdown",
   "id": "41164ee7-05d3-40a1-8a14-7707fadd690c",
   "metadata": {},
   "source": [
    "### define functions that are useful for sql\n",
    "#### \"with conn:\" context manager - makes commit statement unnecessary after execution"
   ]
  },
  {
   "cell_type": "code",
   "execution_count": 12,
   "id": "c24327fb-bc22-47a6-a9e0-d5f1bac18a99",
   "metadata": {},
   "outputs": [],
   "source": [
    "def insert_emp(emp):\n",
    "    with conn: \n",
    "        c.execute(f\"\"\"INSERT INTO employees VALUES ('{emp.first}', '{emp.last}', '{emp.pay}') \"\"\" )\n",
    "\n",
    "def get_emps_by_firstname(firstname):\n",
    "    c.execute(f\"\"\"SELECT * FROM employees WHERE first = '{firstname}' \"\"\")\n",
    "    return c.fetchall()\n",
    "\n",
    "def get_emps_by_lastname(lastname):\n",
    "    c.execute(f\"\"\"SELECT * FROM employees WHERE last = '{lastname}' \"\"\")\n",
    "    return c.fetchall()\n",
    "\n",
    "def update_pay(emp, pay):\n",
    "    with conn:\n",
    "        c.execute(f\"\"\"UPDATE employees SET pay = {pay} WHERE first= '{emp.first}' and last= '{emp.last}' \"\"\")\n",
    "        \n",
    "def remove_emp(emp):\n",
    "    with conn:\n",
    "        c.execute(f\"\"\"DELETE from employees WHERE first= '{emp.first}' and last= '{emp.last}' \"\"\")"
   ]
  },
  {
   "cell_type": "markdown",
   "id": "35ee4f5e-40aa-4490-bb14-b36aeed4232d",
   "metadata": {},
   "source": [
    "### connect to a db in memory, which is useful when testing."
   ]
  },
  {
   "cell_type": "code",
   "execution_count": 3,
   "id": "f4d274b8-0379-458a-882f-05250ba0161b",
   "metadata": {},
   "outputs": [],
   "source": [
    "conn= sqlite3.connect(':memory:')\n",
    "c= conn.cursor()"
   ]
  },
  {
   "cell_type": "code",
   "execution_count": 4,
   "id": "ca12dec8-6199-4ac2-9284-2f8df7e375bc",
   "metadata": {
    "tags": []
   },
   "outputs": [
    {
     "data": {
      "text/plain": [
       "<sqlite3.Cursor at 0x22eff86f0a0>"
      ]
     },
     "execution_count": 4,
     "metadata": {},
     "output_type": "execute_result"
    }
   ],
   "source": [
    "# create a table, if not exists\n",
    "c.execute(\"\"\"CREATE TABLE IF NOT EXISTS employees (\n",
    "            first text,\n",
    "            last text,\n",
    "            pay integer\n",
    "        )\"\"\")"
   ]
  },
  {
   "cell_type": "markdown",
   "id": "9bb77dd7-a7ef-4f35-ae2f-4434a2a4b3a3",
   "metadata": {},
   "source": [
    "### add three lines to the table, employees"
   ]
  },
  {
   "cell_type": "code",
   "execution_count": 5,
   "id": "486df242-e2f8-4a45-b043-9844b9e779fb",
   "metadata": {},
   "outputs": [],
   "source": [
    "emp1= Employee('John','Doe',80000)\n",
    "emp2= Employee('Jane','Joe',90000)\n",
    "emp3= Employee('Sam','Lee',120000)\n",
    "insert_emp(emp1)\n",
    "insert_emp(emp2)\n",
    "insert_emp(emp3)"
   ]
  },
  {
   "cell_type": "code",
   "execution_count": 8,
   "id": "31ca124f-30cd-48fa-9171-fb3d8a94d6c8",
   "metadata": {},
   "outputs": [
    {
     "data": {
      "text/plain": [
       "[('John', 'Doe', 80000), ('Jane', 'Joe', 90000), ('Sam', 'Lee', 120000)]"
      ]
     },
     "execution_count": 8,
     "metadata": {},
     "output_type": "execute_result"
    }
   ],
   "source": [
    "c.execute(\"\"\"SELECT * FROM employees\"\"\")\n",
    "c.fetchall()"
   ]
  },
  {
   "cell_type": "markdown",
   "id": "fbd0837d-002b-4156-af7f-f39537e3b0ce",
   "metadata": {},
   "source": [
    "### check get_emps_by_firstname()"
   ]
  },
  {
   "cell_type": "code",
   "execution_count": 13,
   "id": "96cad62a-4ac9-4492-83b2-7dc6e92c551e",
   "metadata": {},
   "outputs": [
    {
     "data": {
      "text/plain": [
       "[('Sam', 'Lee', 120000)]"
      ]
     },
     "execution_count": 13,
     "metadata": {},
     "output_type": "execute_result"
    }
   ],
   "source": [
    "get_emps_by_firstname('Sam')"
   ]
  },
  {
   "cell_type": "markdown",
   "id": "7e37d968-b63c-4847-be9d-bfeb6142652b",
   "metadata": {},
   "source": [
    "### check get_emps_by_lastname()"
   ]
  },
  {
   "cell_type": "code",
   "execution_count": 14,
   "id": "e3073cee-fc8a-4b89-bc33-7811038a283e",
   "metadata": {},
   "outputs": [
    {
     "data": {
      "text/plain": [
       "[('John', 'Doe', 80000)]"
      ]
     },
     "execution_count": 14,
     "metadata": {},
     "output_type": "execute_result"
    }
   ],
   "source": [
    "get_emps_by_lastname('Doe')"
   ]
  },
  {
   "cell_type": "markdown",
   "id": "ec64c5b6-bfad-4821-b08f-eafef80ff9f5",
   "metadata": {},
   "source": [
    "### check update_pay()"
   ]
  },
  {
   "cell_type": "code",
   "execution_count": 15,
   "id": "243b583d-d476-450e-bc99-ce5afaa5fd4d",
   "metadata": {},
   "outputs": [],
   "source": [
    "update_pay(emp1, 100)"
   ]
  },
  {
   "cell_type": "code",
   "execution_count": 16,
   "id": "8734cfaa-5a3d-46ca-b55c-fe5ef4add48e",
   "metadata": {},
   "outputs": [
    {
     "data": {
      "text/plain": [
       "[('John', 'Doe', 100)]"
      ]
     },
     "execution_count": 16,
     "metadata": {},
     "output_type": "execute_result"
    }
   ],
   "source": [
    "get_emps_by_lastname('Doe')"
   ]
  },
  {
   "cell_type": "markdown",
   "id": "1672e826-e549-4309-9392-e2f78c55056f",
   "metadata": {},
   "source": [
    "### check remove_emp()"
   ]
  },
  {
   "cell_type": "code",
   "execution_count": 19,
   "id": "ae47b09c-c6b8-4931-9fbf-e00c92ce24a7",
   "metadata": {},
   "outputs": [
    {
     "data": {
      "text/plain": [
       "[('John', 'Doe', 100), ('Sam', 'Lee', 120000)]"
      ]
     },
     "execution_count": 19,
     "metadata": {},
     "output_type": "execute_result"
    }
   ],
   "source": [
    "c.execute(\"\"\"SELECT * FROM employees\"\"\")\n",
    "c.fetchall()"
   ]
  },
  {
   "cell_type": "code",
   "execution_count": 17,
   "id": "c604a6ae-20b1-4470-8cd4-cfed4bfdc89d",
   "metadata": {},
   "outputs": [],
   "source": [
    "remove_emp(emp2)"
   ]
  },
  {
   "cell_type": "code",
   "execution_count": 18,
   "id": "44939227-c3ff-474d-a1e3-c1715af88bc5",
   "metadata": {},
   "outputs": [
    {
     "data": {
      "text/plain": [
       "[('John', 'Doe', 100), ('Sam', 'Lee', 120000)]"
      ]
     },
     "execution_count": 18,
     "metadata": {},
     "output_type": "execute_result"
    }
   ],
   "source": [
    "c.execute(\"\"\"SELECT * FROM employees\"\"\")\n",
    "c.fetchall()"
   ]
  },
  {
   "cell_type": "markdown",
   "id": "d0348eb8-b38a-403e-b0df-cf3821bc0aac",
   "metadata": {},
   "source": [
    "### close connection"
   ]
  },
  {
   "cell_type": "code",
   "execution_count": 20,
   "id": "14aae6dc-4588-454b-a333-46a08ed59d5c",
   "metadata": {},
   "outputs": [],
   "source": [
    "conn.close()"
   ]
  }
 ],
 "metadata": {
  "kernelspec": {
   "display_name": "sec",
   "language": "python",
   "name": "sec"
  },
  "language_info": {
   "codemirror_mode": {
    "name": "ipython",
    "version": 3
   },
   "file_extension": ".py",
   "mimetype": "text/x-python",
   "name": "python",
   "nbconvert_exporter": "python",
   "pygments_lexer": "ipython3",
   "version": "3.8.8"
  }
 },
 "nbformat": 4,
 "nbformat_minor": 5
}
