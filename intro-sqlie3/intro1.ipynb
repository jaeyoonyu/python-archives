{
 "cells": [
  {
   "cell_type": "markdown",
   "id": "76f5721f-3d17-41f2-af5f-0db3aa0d44ed",
   "metadata": {},
   "source": [
    "## Introduction to sqlite3\n",
    "### Part I. Basic usage\n",
    "------------------------------"
   ]
  },
  {
   "cell_type": "code",
   "execution_count": 12,
   "id": "7b6dfc11-0d57-4de1-8906-0f64cf417442",
   "metadata": {},
   "outputs": [],
   "source": [
    "import sqlite3"
   ]
  },
  {
   "cell_type": "markdown",
   "id": "cd6ca55e-2fb2-4e3e-ae73-7bd6afd54ef5",
   "metadata": {},
   "source": [
    "### connection + cursor"
   ]
  },
  {
   "cell_type": "code",
   "execution_count": 13,
   "id": "842ce208-9c79-42c5-9b93-1de7e0ddda8e",
   "metadata": {},
   "outputs": [],
   "source": [
    "# connect to a database in memory. It is useful when testing.\n",
    "# conn= sqlite3.connect(':memory:') # db name can be used. e.g., employee.db\n",
    "conn= sqlite3.connect('employee.db')\n",
    "\n",
    "# create a cursor\n",
    "c= conn.cursor()"
   ]
  },
  {
   "cell_type": "markdown",
   "id": "52c85dea-b946-4697-862b-da292c88a3d2",
   "metadata": {},
   "source": [
    "### how to drop a table"
   ]
  },
  {
   "cell_type": "code",
   "execution_count": 14,
   "id": "3b309de3-be79-43d5-b3ca-6b35726dd6c9",
   "metadata": {},
   "outputs": [
    {
     "data": {
      "text/plain": [
       "<sqlite3.Cursor at 0x29614562110>"
      ]
     },
     "execution_count": 14,
     "metadata": {},
     "output_type": "execute_result"
    }
   ],
   "source": [
    "# drop a table\n",
    "c.execute(\"\"\"DROP TABLE IF EXISTS employees\"\"\")"
   ]
  },
  {
   "cell_type": "markdown",
   "id": "b340c1fd-0e30-4788-868c-866ae6cdd319",
   "metadata": {},
   "source": [
    "### how to create a table"
   ]
  },
  {
   "cell_type": "code",
   "execution_count": 15,
   "id": "a82ff708-c9b6-4704-b52f-70985b3a5644",
   "metadata": {},
   "outputs": [
    {
     "data": {
      "text/plain": [
       "<sqlite3.Cursor at 0x29614562110>"
      ]
     },
     "execution_count": 15,
     "metadata": {},
     "output_type": "execute_result"
    }
   ],
   "source": [
    "# create a table\n",
    "c.execute(\"\"\"CREATE TABLE IF NOT EXISTS employees (\n",
    "            first text,\n",
    "            last text,\n",
    "            pay integer\n",
    "        )\"\"\")"
   ]
  },
  {
   "cell_type": "markdown",
   "id": "021b9b40-2a40-4123-9741-56680e007deb",
   "metadata": {},
   "source": [
    "### how to add a new line"
   ]
  },
  {
   "cell_type": "code",
   "execution_count": 16,
   "id": "fe86d964-784c-43c5-8700-1e75496cc1e5",
   "metadata": {},
   "outputs": [],
   "source": [
    "# input manually\n",
    "c.execute(\"\"\"INSERT INTO employees VALUES ('Corey', 'Schafer', 50000)\"\"\")\n",
    "c.execute(\"\"\"INSERT INTO employees VALUES ('Mary', 'Joe', 50000)\"\"\")\n",
    "\n",
    "# commit changes, which is necessary\n",
    "conn.commit()"
   ]
  },
  {
   "cell_type": "markdown",
   "id": "458a9d7e-4479-40da-a2ef-8317db28f2e7",
   "metadata": {},
   "source": [
    "### how to display data from table: fetchone(); fetchall(); fetchmany()"
   ]
  },
  {
   "cell_type": "code",
   "execution_count": 17,
   "id": "d6da5d83-27ec-44c4-b883-d3d323580c54",
   "metadata": {},
   "outputs": [
    {
     "data": {
      "text/plain": [
       "('Corey', 'Schafer', 50000)"
      ]
     },
     "execution_count": 17,
     "metadata": {},
     "output_type": "execute_result"
    }
   ],
   "source": [
    "c.execute(\"\"\"SELECT * FROM employees WHERE last = 'Schafer' \"\"\")\n",
    "c.fetchone()"
   ]
  },
  {
   "cell_type": "code",
   "execution_count": 18,
   "id": "446dbec0-0fd9-4d81-ab4c-e53e8e2bd53a",
   "metadata": {},
   "outputs": [
    {
     "data": {
      "text/plain": [
       "[('Corey', 'Schafer', 50000)]"
      ]
     },
     "execution_count": 18,
     "metadata": {},
     "output_type": "execute_result"
    }
   ],
   "source": [
    "c.execute(\"\"\"SELECT * FROM employees WHERE last = 'Schafer' \"\"\")\n",
    "c.fetchall()"
   ]
  },
  {
   "cell_type": "code",
   "execution_count": 19,
   "id": "2b7678fe-bd4d-4aec-b8fc-6c5e7665c7ad",
   "metadata": {},
   "outputs": [
    {
     "data": {
      "text/plain": [
       "[('Corey', 'Schafer', 50000)]"
      ]
     },
     "execution_count": 19,
     "metadata": {},
     "output_type": "execute_result"
    }
   ],
   "source": [
    "c.execute(\"\"\"SELECT * FROM employees WHERE last = 'Schafer' \"\"\")\n",
    "c.fetchmany(5)"
   ]
  },
  {
   "cell_type": "code",
   "execution_count": 20,
   "id": "fc08b77f-6059-4fe1-be78-f3d6e968cec6",
   "metadata": {},
   "outputs": [
    {
     "data": {
      "text/plain": [
       "[('Corey', 'Schafer', 50000), ('Mary', 'Joe', 50000)]"
      ]
     },
     "execution_count": 20,
     "metadata": {},
     "output_type": "execute_result"
    }
   ],
   "source": [
    "c.execute(\"\"\"SELECT * FROM employees\"\"\")\n",
    "c.fetchall()"
   ]
  },
  {
   "cell_type": "markdown",
   "id": "6dccc573-b97b-4216-ab4a-06f6db863ff4",
   "metadata": {},
   "source": [
    "### close connection"
   ]
  },
  {
   "cell_type": "code",
   "execution_count": 21,
   "id": "14aae6dc-4588-454b-a333-46a08ed59d5c",
   "metadata": {},
   "outputs": [],
   "source": [
    "# close connection\n",
    "conn.close()"
   ]
  },
  {
   "cell_type": "markdown",
   "id": "bf305bcd-564d-443a-9ea8-87314e52c41b",
   "metadata": {},
   "source": [
    "### connect the db again; fetch the data again to check."
   ]
  },
  {
   "cell_type": "code",
   "execution_count": 22,
   "id": "8ec425fd-9540-43d2-a4b7-bc27b670de70",
   "metadata": {},
   "outputs": [
    {
     "data": {
      "text/plain": [
       "[('Corey', 'Schafer', 50000)]"
      ]
     },
     "execution_count": 22,
     "metadata": {},
     "output_type": "execute_result"
    }
   ],
   "source": [
    "conn= sqlite3.connect('employee.db')\n",
    "c= conn.cursor()\n",
    "c.execute(\"\"\"SELECT * FROM employees WHERE last = 'Schafer' \"\"\")\n",
    "c.fetchall()"
   ]
  },
  {
   "cell_type": "code",
   "execution_count": 23,
   "id": "fd6af153-8a73-4f35-bbe7-c6430291aeed",
   "metadata": {},
   "outputs": [],
   "source": [
    "conn.close()"
   ]
  }
 ],
 "metadata": {
  "kernelspec": {
   "display_name": "sec",
   "language": "python",
   "name": "sec"
  },
  "language_info": {
   "codemirror_mode": {
    "name": "ipython",
    "version": 3
   },
   "file_extension": ".py",
   "mimetype": "text/x-python",
   "name": "python",
   "nbconvert_exporter": "python",
   "pygments_lexer": "ipython3",
   "version": "3.8.8"
  }
 },
 "nbformat": 4,
 "nbformat_minor": 5
}
